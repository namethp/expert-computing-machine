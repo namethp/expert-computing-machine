{
 "cells": [
  {
   "cell_type": "markdown",
   "id": "8d39524d-adfe-4548-be2c-560bba1d7523",
   "metadata": {},
   "source": [
    "# Data Science Tools and Ecosystem\n"
   ]
  },
  {
   "cell_type": "markdown",
   "id": "9f1a85ef-a11a-4d8c-8b81-cd0177e63acc",
   "metadata": {},
   "source": [
    "## Author\n",
    "Paul Nameth"
   ]
  },
  {
   "cell_type": "markdown",
   "id": "2465e5cb-fda9-466e-b8e1-60049c05b786",
   "metadata": {},
   "source": [
    "## In this notebook, Data Science Tools and Ecosystem are summarized.  "
   ]
  },
  {
   "cell_type": "markdown",
   "id": "1278c2f3-b397-4c6e-803a-f9e739fbd9f6",
   "metadata": {},
   "source": [
    "##### **Objectives:**\n",
    "\n",
    "- List popular languages for Data Science\n",
    "- List common libraries for Data Science\n",
    "- List of common tools for Data Science\n",
    "- Examples of arithmetic expressions in Python"
   ]
  },
  {
   "cell_type": "markdown",
   "id": "42be59ec-ea3c-4733-b4f1-3650c960d960",
   "metadata": {},
   "source": [
    "### Some of the popular languages that Data Scientists use are:  \n",
    "1. Python\n",
    "2. R\n",
    "3. SQL"
   ]
  },
  {
   "cell_type": "markdown",
   "id": "7c354a5b-c307-47a3-8c3d-63080eeb8dd7",
   "metadata": {},
   "source": [
    "### Some of the commonly used libraries used by Data Scientists include:  \n",
    "1. Pandas\n",
    "2. NumPy\n",
    "3. Matplotlib\n",
    "4. Seaborn\n",
    "5. TensorFlow"
   ]
  },
  {
   "cell_type": "markdown",
   "id": "9767d5f9-4bd9-47e2-b146-a280b57b96dd",
   "metadata": {},
   "source": [
    "|Data Science Tools|\n",
    "|--------------------|\n",
    "|MySql|\n",
    "|Hadoop|\n",
    "|Apache mongoDB|"
   ]
  },
  {
   "cell_type": "markdown",
   "id": "3c4142f4-896a-4c03-a2ab-fe8d0831a166",
   "metadata": {},
   "source": [
    "### Below are a few examples of evaluating arithmetic expressions in Python"
   ]
  },
  {
   "cell_type": "code",
   "execution_count": 4,
   "id": "9587087c-49b6-41e8-baa9-5b01ac3d6f50",
   "metadata": {},
   "outputs": [
    {
     "data": {
      "text/plain": [
       "17"
      ]
     },
     "execution_count": 4,
     "metadata": {},
     "output_type": "execute_result"
    }
   ],
   "source": [
    "#This is a simple arithmetic expression to multiply then add integers\n",
    "(3*4)+5"
   ]
  },
  {
   "cell_type": "code",
   "execution_count": 7,
   "id": "3a1973ab-c23b-4135-8a2c-9ea76693ae33",
   "metadata": {},
   "outputs": [
    {
     "data": {
      "text/plain": [
       "3.3333333333333335"
      ]
     },
     "execution_count": 7,
     "metadata": {},
     "output_type": "execute_result"
    }
   ],
   "source": [
    "#This will convert 200 minutes to hours by dividing by 60\n",
    "200/60"
   ]
  }
 ],
 "metadata": {
  "kernelspec": {
   "display_name": "Python 3 (ipykernel)",
   "language": "python",
   "name": "python3"
  },
  "language_info": {
   "codemirror_mode": {
    "name": "ipython",
    "version": 3
   },
   "file_extension": ".py",
   "mimetype": "text/x-python",
   "name": "python",
   "nbconvert_exporter": "python",
   "pygments_lexer": "ipython3",
   "version": "3.11.7"
  }
 },
 "nbformat": 4,
 "nbformat_minor": 5
}
